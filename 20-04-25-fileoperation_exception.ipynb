{
 "cells": [
  {
   "cell_type": "code",
   "execution_count": 3,
   "id": "600634d1",
   "metadata": {},
   "outputs": [
    {
     "name": "stdout",
     "output_type": "stream",
     "text": [
      "Found: samsul\n",
      "Found: samsulalom\n",
      "Found: samsul_laskar\n",
      "Found: alom\n",
      "Found: mamon\n"
     ]
    }
   ],
   "source": [
    "names = [\"samsul\", \"samsulalom\", \"samsul_laskar\", \"laskar\", \"alom\", \"mamon\"]\n",
    "\n",
    "for name in names:\n",
    "    if \"m\" in name:\n",
    "        print(f\"Found: {name}\")"
   ]
  },
  {
   "cell_type": "code",
   "execution_count": 4,
   "id": "f2ed3ad6",
   "metadata": {},
   "outputs": [
    {
     "data": {
      "text/plain": [
       "'samsul'"
      ]
     },
     "execution_count": 4,
     "metadata": {},
     "output_type": "execute_result"
    }
   ],
   "source": [
    "a = \"SamSul\"\n",
    "a.lower()"
   ]
  },
  {
   "cell_type": "code",
   "execution_count": 5,
   "id": "800e4fbd",
   "metadata": {},
   "outputs": [
    {
     "data": {
      "text/plain": [
       "'SAMSUL'"
      ]
     },
     "execution_count": 5,
     "metadata": {},
     "output_type": "execute_result"
    }
   ],
   "source": [
    "b = \"samsul\"\n",
    "b.upper()"
   ]
  },
  {
   "cell_type": "code",
   "execution_count": 6,
   "id": "2c49e64d",
   "metadata": {},
   "outputs": [
    {
     "data": {
      "text/plain": [
       "'Samsul Alom Laskar'"
      ]
     },
     "execution_count": 6,
     "metadata": {},
     "output_type": "execute_result"
    }
   ],
   "source": [
    "c = \"samsul alom laskar\"\n",
    "c.title()"
   ]
  },
  {
   "cell_type": "markdown",
   "id": "a6c95295",
   "metadata": {},
   "source": [
    "## File Operations"
   ]
  },
  {
   "cell_type": "code",
   "execution_count": 1,
   "id": "e3a43ec7",
   "metadata": {},
   "outputs": [],
   "source": [
    "import os"
   ]
  },
  {
   "cell_type": "code",
   "execution_count": 23,
   "id": "733e1096",
   "metadata": {},
   "outputs": [
    {
     "data": {
      "text/plain": [
       "'d:\\\\Python DS ML\\\\Practice'"
      ]
     },
     "execution_count": 23,
     "metadata": {},
     "output_type": "execute_result"
    }
   ],
   "source": [
    "os.getcwd() # Get current working directory"
   ]
  },
  {
   "cell_type": "code",
   "execution_count": null,
   "id": "fb9e5f6e",
   "metadata": {},
   "outputs": [
    {
     "data": {
      "text/plain": [
       "['01-06-2025.ipynb',\n",
       " '02-08-2025.pdf',\n",
       " '03-08-2025.ipynb',\n",
       " '03-08-2025.pdf',\n",
       " '05-04-2025.zip',\n",
       " '05-07-2025.zip',\n",
       " '06-04-2025.zip',\n",
       " '06-07-2025-part-1.pdf',\n",
       " '07-06-2025.ipynb',\n",
       " '08-06-2025.ipynb',\n",
       " '1-Python Basics',\n",
       " '1-Python Basics-20250329T161536Z-001.zip',\n",
       " '12-04-2025.zip',\n",
       " '13-04-2025',\n",
       " '15-06-2025.ipynb',\n",
       " '16-08-2025.ipynb',\n",
       " '16-08-2025.pdf',\n",
       " '17-05-2025.ipynb',\n",
       " '17-08-2025.pdf',\n",
       " '1749576853697.pdf',\n",
       " '18-05-2025.ipynb',\n",
       " '18-05-2025_new.ipynb',\n",
       " '19-04-2025.zip',\n",
       " '19-07-2025.pdf',\n",
       " '20-04-2025.ipynb',\n",
       " '20-04-2025.zip',\n",
       " '21-06-2025-1.ipynb',\n",
       " '21-06-2025-2.ipynb',\n",
       " '21-06-2025.ipynb',\n",
       " '21-06-2025.pdf',\n",
       " '22-06-2025.zip',\n",
       " '23-03-2025.zip',\n",
       " '25-05-2025.ipynb',\n",
       " '25-05-2025np.ipynb',\n",
       " '26-04-2025.py',\n",
       " '26-07-2025.pdf',\n",
       " '30-03-2025.zip',\n",
       " '31-05-2025.ipynb',\n",
       " 'a.py',\n",
       " 'assignment_01_06.py',\n",
       " 'b.py',\n",
       " 'beautiful_soup_tutorial.ipynb',\n",
       " 'example.ipynb',\n",
       " 'example.txt',\n",
       " 'file_change_watcher.py',\n",
       " 'multi_processing_vs_threading_cpu_bound.py',\n",
       " 'online_retail_II.xlsx',\n",
       " 'PostGresSQL-Installation.pdf',\n",
       " 'post_gres_python.ipynb',\n",
       " 'practice',\n",
       " 'pyproject.toml',\n",
       " 'requirements (2).txt',\n",
       " 'requirements.txt',\n",
       " 'setup.py',\n",
       " 'start pattern.py',\n",
       " 'subabase-python-postgres.pdf',\n",
       " 'threaded_vs_non_download_multi_url.py',\n",
       " 'venv']"
      ]
     },
     "execution_count": 13,
     "metadata": {},
     "output_type": "execute_result"
    }
   ],
   "source": [
    "os.listdir() # List files in the current directory\n",
    "os.listdir(r\"d:\\\\Python DS ML\") # r for raw string to avoid escape sequences"
   ]
  },
  {
   "cell_type": "code",
   "execution_count": 33,
   "id": "082584ac",
   "metadata": {},
   "outputs": [
    {
     "data": {
      "text/plain": [
       "'d:\\\\Python DS ML\\\\practice\\\\testing.txt'"
      ]
     },
     "execution_count": 33,
     "metadata": {},
     "output_type": "execute_result"
    }
   ],
   "source": [
    "os.listdir()\n",
    "os.path.join(os.getcwd(), \"testing.txt\") # Join current directory with a file name"
   ]
  },
  {
   "cell_type": "code",
   "execution_count": 34,
   "id": "221b77f1",
   "metadata": {},
   "outputs": [],
   "source": [
    "file = open(\"test.txt\")"
   ]
  },
  {
   "cell_type": "code",
   "execution_count": 42,
   "id": "0733f0be",
   "metadata": {},
   "outputs": [
    {
     "name": "stdout",
     "output_type": "stream",
     "text": [
      "d:\\Python DS ML\\practice\\test.txt\n"
     ]
    }
   ],
   "source": [
    "full_path = os.path.join(os.getcwd(), \"test.txt\")\n",
    "print(full_path)  # Print the full path to the file\n",
    "file = open(full_path)"
   ]
  },
  {
   "cell_type": "code",
   "execution_count": 24,
   "id": "6add2632",
   "metadata": {},
   "outputs": [
    {
     "data": {
      "text/plain": [
       "['Hi, This is file operations dummy file\\nlorem ipsum     samsul      alom\\nThe quick brown fox jumps over the lazy dog.\\nArtificial intelligence is transforming the world.\\nData science unlocks insights from complex datasets.\\nMountains stand tall, rivers flow endlessly.\\nCreativity fuels innovation and progress.Sunsets paint the sky with vibrant colors.Technology connects people across the globe.\\nLearning new skills opens endless opportunities. Books are windows to different worlds.']"
      ]
     },
     "execution_count": 24,
     "metadata": {},
     "output_type": "execute_result"
    }
   ],
   "source": [
    "content = file.read() # Read the entire file\n",
    "content.split(\"\\t\")\n",
    "# content.split(\"\\n\")\n",
    "# print(content)"
   ]
  },
  {
   "cell_type": "code",
   "execution_count": 43,
   "id": "cf985afd",
   "metadata": {},
   "outputs": [
    {
     "name": "stdout",
     "output_type": "stream",
     "text": [
      "Hi, This is file operations dummy file\n",
      "\n"
     ]
    }
   ],
   "source": [
    "# lines = file.readlines()\n",
    "line = file.readline()\n",
    "print(line)\n",
    "# print(lines)"
   ]
  },
  {
   "cell_type": "code",
   "execution_count": 44,
   "id": "9a85994d",
   "metadata": {},
   "outputs": [],
   "source": [
    "file.close() # Close the file after operations"
   ]
  },
  {
   "cell_type": "code",
   "execution_count": null,
   "id": "1aaca4b3",
   "metadata": {},
   "outputs": [
    {
     "name": "stdout",
     "output_type": "stream",
     "text": [
      "Hi, This is file operations dummy file\n",
      "lorem ipsum     samsul      alom\n",
      "The quick brown fox jumps over the lazy dog.\n",
      "Artificial intelligence is transforming the world.\n",
      "Data science unlocks insights from complex datasets.\n",
      "Mountains stand tall, rivers flow endlessly.\n",
      "Creativity fuels innovation and progress.Sunsets paint the sky with vibrant colors.Technology connects people across the globe.\n",
      "Learning new skills opens endless opportunities. Books are windows to different worlds.\n"
     ]
    }
   ],
   "source": [
    "# with is called context manager\n",
    "with open(\"test.txt\") as file: # Automatically closes the file after the block\n",
    "    content = file.read()\n",
    "    print(content)"
   ]
  },
  {
   "cell_type": "code",
   "execution_count": 52,
   "id": "f2df1b0b",
   "metadata": {},
   "outputs": [
    {
     "name": "stdout",
     "output_type": "stream",
     "text": [
      "None\n"
     ]
    }
   ],
   "source": [
    "with open(\"dummy_text_test.txt\", \"w\") as f:\n",
    "    addLines = [\"This is first line.\\n\", \"This is second line.\\n\", \"This is third line.\\n\"]\n",
    "    oneLine = f.write(\"this is a single line.\\n\")\n",
    "    lines = f.writelines(addLines)\n",
    "    print(lines)\n"
   ]
  },
  {
   "cell_type": "code",
   "execution_count": null,
   "id": "f9419d00",
   "metadata": {},
   "outputs": [
    {
     "name": "stdout",
     "output_type": "stream",
     "text": [
      "Hello World!!"
     ]
    }
   ],
   "source": [
    "print(\"Hello World!!\", end=\"\") # end=\"\" to avoid new line after print"
   ]
  },
  {
   "cell_type": "code",
   "execution_count": 1,
   "id": "a9cabf6e",
   "metadata": {},
   "outputs": [],
   "source": [
    "# Append\n",
    "with open(\"dummy_text_test.txt\", \"a\") as f:\n",
    "    f.write(\"This line is appended.\\n\")"
   ]
  },
  {
   "cell_type": "code",
   "execution_count": null,
   "id": "f9147ab3",
   "metadata": {},
   "outputs": [],
   "source": [
    "with open(\"dummy_text_test.txt\", \"r+\") as f:\n",
    "    f.write(\"This line is appended using r+.\\n\")"
   ]
  }
 ],
 "metadata": {
  "kernelspec": {
   "display_name": "Python 3",
   "language": "python",
   "name": "python3"
  },
  "language_info": {
   "codemirror_mode": {
    "name": "ipython",
    "version": 3
   },
   "file_extension": ".py",
   "mimetype": "text/x-python",
   "name": "python",
   "nbconvert_exporter": "python",
   "pygments_lexer": "ipython3",
   "version": "3.12.0"
  }
 },
 "nbformat": 4,
 "nbformat_minor": 5
}
