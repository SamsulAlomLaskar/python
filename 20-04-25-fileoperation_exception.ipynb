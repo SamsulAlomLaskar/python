{
 "cells": [
  {
   "cell_type": "code",
   "execution_count": 3,
   "id": "600634d1",
   "metadata": {},
   "outputs": [
    {
     "name": "stdout",
     "output_type": "stream",
     "text": [
      "Found: samsul\n",
      "Found: samsulalom\n",
      "Found: samsul_laskar\n",
      "Found: alom\n",
      "Found: mamon\n"
     ]
    }
   ],
   "source": [
    "names = [\"samsul\", \"samsulalom\", \"samsul_laskar\", \"laskar\", \"alom\", \"mamon\"]\n",
    "\n",
    "for name in names:\n",
    "    if \"m\" in name:\n",
    "        print(f\"Found: {name}\")"
   ]
  },
  {
   "cell_type": "code",
   "execution_count": 4,
   "id": "f2ed3ad6",
   "metadata": {},
   "outputs": [
    {
     "data": {
      "text/plain": [
       "'samsul'"
      ]
     },
     "execution_count": 4,
     "metadata": {},
     "output_type": "execute_result"
    }
   ],
   "source": [
    "a = \"SamSul\"\n",
    "a.lower()"
   ]
  },
  {
   "cell_type": "code",
   "execution_count": 5,
   "id": "800e4fbd",
   "metadata": {},
   "outputs": [
    {
     "data": {
      "text/plain": [
       "'SAMSUL'"
      ]
     },
     "execution_count": 5,
     "metadata": {},
     "output_type": "execute_result"
    }
   ],
   "source": [
    "b = \"samsul\"\n",
    "b.upper()"
   ]
  },
  {
   "cell_type": "code",
   "execution_count": 6,
   "id": "2c49e64d",
   "metadata": {},
   "outputs": [
    {
     "data": {
      "text/plain": [
       "'Samsul Alom Laskar'"
      ]
     },
     "execution_count": 6,
     "metadata": {},
     "output_type": "execute_result"
    }
   ],
   "source": [
    "c = \"samsul alom laskar\"\n",
    "c.title()"
   ]
  }
 ],
 "metadata": {
  "kernelspec": {
   "display_name": "Python 3",
   "language": "python",
   "name": "python3"
  },
  "language_info": {
   "codemirror_mode": {
    "name": "ipython",
    "version": 3
   },
   "file_extension": ".py",
   "mimetype": "text/x-python",
   "name": "python",
   "nbconvert_exporter": "python",
   "pygments_lexer": "ipython3",
   "version": "3.12.0"
  }
 },
 "nbformat": 4,
 "nbformat_minor": 5
}
